{
 "cells": [
  {
   "cell_type": "markdown",
   "metadata": {},
   "source": [
    "### Take Home Test\n",
    "\n",
    "### Author: Syed Zain Raza"
   ]
  },
  {
   "cell_type": "code",
   "execution_count": 1,
   "metadata": {},
   "outputs": [],
   "source": [
    "# Importing all necessary libraries\n",
    "import pandas as pd\n",
    "import matplotlib.pyplot as plt\n",
    "import re\n",
    "import urllib.request\n",
    "import enchant\n",
    "import statistics\n",
    "from collections import Counter\n"
   ]
  },
  {
   "cell_type": "markdown",
   "metadata": {},
   "source": [
    "#### Question 1 - Given a list of integers in python, write a function that returns True if a list has any repetitions and False if every number in it is unique.\n",
    "\n",
    "#### e.g. hasRepetitions([1,3,4,1,2])==True, hasRepetitions([1,3,4,2])==False\n",
    "\n",
    "#### Total Time Taken - 2 mins"
   ]
  },
  {
   "cell_type": "code",
   "execution_count": 2,
   "metadata": {},
   "outputs": [],
   "source": [
    "def hasRepetitions(arr):\n",
    "    if len(arr) == len(set(arr)):\n",
    "        return False\n",
    "    else:\n",
    "        return True"
   ]
  },
  {
   "cell_type": "code",
   "execution_count": 3,
   "metadata": {},
   "outputs": [
    {
     "name": "stdout",
     "output_type": "stream",
     "text": [
      "False\n"
     ]
    }
   ],
   "source": [
    "testArr = [1,3,4,2]\n",
    "\n",
    "print(hasRepetitions(testArr))"
   ]
  },
  {
   "cell_type": "code",
   "execution_count": null,
   "metadata": {},
   "outputs": [],
   "source": []
  },
  {
   "cell_type": "markdown",
   "metadata": {},
   "source": [
    "#### Question 2 - find the median cost of living for each state. For the state of California, plot the change in cost of living over the last 12 months.\n",
    "\n",
    "#### If you can't find cost of living, can do instead for the unemployment rate or the median income.\n",
    "\n",
    "#### Total Time Taken - 5 mins\n"
   ]
  },
  {
   "cell_type": "code",
   "execution_count": 4,
   "metadata": {},
   "outputs": [
    {
     "name": "stdout",
     "output_type": "stream",
     "text": [
      "Median Cost of Living by Each State in 2020 in terms of Cost Index is:  97.9\n"
     ]
    }
   ],
   "source": [
    "dataFrame = pd.read_csv('csvData.csv')\n",
    "\n",
    "print(\"Median Cost of Living by Each State in 2020 in terms of Cost Index is: \", statistics.median(dataFrame['costIndex']))"
   ]
  },
  {
   "cell_type": "code",
   "execution_count": 5,
   "metadata": {},
   "outputs": [
    {
     "data": {
      "image/png": "[encoded data removed]",
      "text/plain": [
       "<Figure size 1512x216 with 1 Axes>"
      ]
     },
     "metadata": {
      "needs_background": "light"
     },
     "output_type": "display_data"
    }
   ],
   "source": [
    "# last 12 months unemployment rates, from June 2019 to May 2020\n",
    "cali_UnemploymentRates = [4.0, 4.0, 3.9, 3.9, 3.9, 3.9, 3.9, 3.9, 3.9, 5.5, 16.4, 16.3]\n",
    "\n",
    "months = ['June 2019', 'July 2019', 'August 2019', 'Sepetember 2019', 'October 2019', 'November 2019', 'December 2019', 'January 2020', 'February 2020', 'March 2020', 'April 2020', 'May 2020']\n",
    "\n",
    "plt.figure(figsize=(21, 3))\n",
    "plt.plot(months, cali_UnemploymentRates)\n",
    "plt.ylabel('Unemployment Rates')\n",
    "plt.xlabel('Last 12 Months')\n",
    "plt.show()\n"
   ]
  },
  {
   "cell_type": "code",
   "execution_count": null,
   "metadata": {},
   "outputs": [],
   "source": []
  },
  {
   "cell_type": "markdown",
   "metadata": {},
   "source": [
    "#### Question 3 - how many words are on the page https://en.wikipedia.org/wiki/Grape ?\n",
    "\n",
    "#### Total Time Taken - 10 mins"
   ]
  },
  {
   "cell_type": "code",
   "execution_count": 6,
   "metadata": {},
   "outputs": [],
   "source": [
    "givenURL = 'https://en.wikipedia.org/wiki/Grape'\n",
    "\n",
    "everyWord = Counter()\n",
    "\n",
    "engDict = enchant.Dict(\"en_US\")\n",
    "\n",
    "totalWords = 0\n",
    "\n",
    "fullDocument = urllib.request.urlopen(givenURL)\n",
    "\n",
    "for line in fullDocument:\n",
    "    w = re.split(r\"[^A-Z]+\", line.decode('UTF-8'), flags = re.IGNORECASE)\n",
    "    everyWord.update(w)\n",
    "\n",
    "for k in everyWord:\n",
    "    if k != '' and engDict.check(k) == True:\n",
    "            totalWords +=1\n"
   ]
  },
  {
   "cell_type": "code",
   "execution_count": 7,
   "metadata": {},
   "outputs": [
    {
     "name": "stdout",
     "output_type": "stream",
     "text": [
      "Total English Words are:  2285\n"
     ]
    }
   ],
   "source": [
    "print(\"Total English Words are: \", totalWords)"
   ]
  },
  {
   "cell_type": "code",
   "execution_count": null,
   "metadata": {},
   "outputs": [],
   "source": []
  }
 ],
 "metadata": {
  "kernelspec": {
   "display_name": "Python 3",
   "language": "python",
   "name": "python3"
  },
  "language_info": {
   "codemirror_mode": {
    "name": "ipython",
    "version": 3
   },
   "file_extension": ".py",
   "mimetype": "text/x-python",
   "name": "python",
   "nbconvert_exporter": "python",
   "pygments_lexer": "ipython3",
   "version": "3.6.7"
  }
 },
 "nbformat": 4,
 "nbformat_minor": 2
}
